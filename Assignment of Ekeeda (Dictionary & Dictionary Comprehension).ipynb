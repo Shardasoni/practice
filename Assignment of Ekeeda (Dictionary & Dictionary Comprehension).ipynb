{
 "cells": [
  {
   "cell_type": "code",
   "execution_count": 1,
   "id": "93175122",
   "metadata": {},
   "outputs": [
    {
     "name": "stdout",
     "output_type": "stream",
     "text": [
      "{1: 'ekeeda'}\n"
     ]
    }
   ],
   "source": [
    "#Convert string to dictionary\n",
    "#string = 'ekeeda'\n",
    "\n",
    "a = {1 : \"ekeeda\"}\n",
    "print(a)"
   ]
  },
  {
   "cell_type": "code",
   "execution_count": 1,
   "id": "15eaf12f",
   "metadata": {},
   "outputs": [
    {
     "name": "stdout",
     "output_type": "stream",
     "text": [
      "{'Name': 'Simulen', 'City': 'CA', 'Country': 'USA', 'Education': 'MBA'}\n"
     ]
    }
   ],
   "source": [
    "#Write a program to multiply keys into dictionary\n",
    "\n",
    "dictt = { \"Name\" : \"Simulen\", \"City\" : \"CA\", \"Country\" : \"USA\"}\n",
    "dictt.update({\"Education\" : \"MBA\"})\n",
    "print(dictt)"
   ]
  },
  {
   "cell_type": "markdown",
   "id": "49aaabd9",
   "metadata": {},
   "source": []
  },
  {
   "cell_type": "code",
   "execution_count": 4,
   "id": "3de8baac",
   "metadata": {},
   "outputs": [
    {
     "name": "stdout",
     "output_type": "stream",
     "text": [
      "value doesn't exist in dictionary\n"
     ]
    }
   ],
   "source": [
    "#Check if there's a particular value in a dict\n",
    "\n",
    "dictt = {'a' : 100, 'b' : 200, 'c' : 300}\n",
    "if any([true for k, v in dictt.items() if v == 500]):\n",
    "    print(\"value exists in dictionary\")\n",
    "else:\n",
    "    print(\"value doesn't exist in dictionary\")\n"
   ]
  },
  {
   "cell_type": "code",
   "execution_count": 6,
   "id": "a1ef8720",
   "metadata": {},
   "outputs": [
    {
     "name": "stdout",
     "output_type": "stream",
     "text": [
      "{1: 'a', 2: 'b', 3: 'c', 4: 'd', 5: 'e', 6: 'None'}\n"
     ]
    }
   ],
   "source": [
    "#Print the dictionary where we drop the empty value from the dictionary\n",
    "\n",
    "dict_num = {1:'a', 2:'b', 3:'c', 4:'d', 5:'e', 6:'None'}\n",
    "dict_num = {key : value for (key, value) in dict_num.items()if value is not None}\n",
    "print(dict_num)"
   ]
  },
  {
   "cell_type": "code",
   "execution_count": 7,
   "id": "a63113aa",
   "metadata": {},
   "outputs": [
    {
     "name": "stdout",
     "output_type": "stream",
     "text": [
      "Shubham\n",
      "class : IX\n",
      "roll_no : 1\n",
      "Ankita\n",
      "class : X\n",
      "roll_no : 2\n"
     ]
    }
   ],
   "source": [
    "#Create a data for 2 students using dictionary and print it line by line\n",
    "\n",
    "students = {'Shubham':{'class':'IX','roll_no':1},'Ankita':{'class':'X','roll_no':2}}\n",
    "for a in students:\n",
    "    print(a)\n",
    "    for b in students[a]:\n",
    "        print (b,':',students[a][b])\n"
   ]
  },
  {
   "cell_type": "code",
   "execution_count": 8,
   "id": "aafece08",
   "metadata": {},
   "outputs": [
    {
     "name": "stdout",
     "output_type": "stream",
     "text": [
      "ani: 6\n",
      "dh: 5\n",
      "zimb: 8\n"
     ]
    }
   ],
   "source": [
    "#From the dictionary given below, sort the elements based on the keys\n",
    "\n",
    "dictt = {'dh':5, 'ani':6, 'zimb':8}\n",
    "for key in sorted(dictt):\n",
    "    print(\"%s: %s\" % (key, dictt[key]))\n"
   ]
  },
  {
   "cell_type": "code",
   "execution_count": 9,
   "id": "ae4ae01a",
   "metadata": {},
   "outputs": [
    {
     "name": "stdout",
     "output_type": "stream",
     "text": [
      "1310\n"
     ]
    }
   ],
   "source": [
    "#Write a program to create dictionary containing some values and add all the values from that dictionary\n",
    "\n",
    "dictt = {'a':345,'b':398,'c':567}\n",
    "print(sum(dictt.values()))\n",
    "\n"
   ]
  },
  {
   "cell_type": "markdown",
   "id": "214cad9f",
   "metadata": {},
   "source": []
  },
  {
   "cell_type": "code",
   "execution_count": 13,
   "id": "dfb4c864",
   "metadata": {},
   "outputs": [
    {
     "name": "stdout",
     "output_type": "stream",
     "text": [
      "[('BE', 100), ('MBA', 150), ('Pharma', 200)]\n"
     ]
    }
   ],
   "source": [
    "#Write a python program to convert given a dictionary to a list of tuples \n",
    "\n",
    "dict = {'BE': 100, 'MBA': 150, 'Pharma': 200 }\n",
    "list = [(k, v) for k, v in dict.items()]\n",
    "print(list)\n",
    "\n"
   ]
  },
  {
   "cell_type": "code",
   "execution_count": 2,
   "id": "07a1f6c8",
   "metadata": {},
   "outputs": [
    {
     "name": "stdout",
     "output_type": "stream",
     "text": [
      "Please enter the number:8\n",
      "dictionary = {1: 1, 2: 4, 3: 9, 4: 16, 5: 25, 6: 36, 7: 49, 8: 64}\n"
     ]
    }
   ],
   "source": [
    "#Create a dictionary having values=key*key and keys ranging from 1 to n\n",
    "\n",
    "number = int(input(\"Please enter the number:\"))\n",
    "mydict = {}\n",
    "\n",
    "for i in range (1, number+1):\n",
    "    mydict[i] = i**2\n",
    "print(\"dictionary =\", mydict)"
   ]
  },
  {
   "cell_type": "code",
   "execution_count": 9,
   "id": "151a1698",
   "metadata": {},
   "outputs": [
    {
     "name": "stdout",
     "output_type": "stream",
     "text": [
      "{1: 10, 2: 20, 3: 30, 4: 40, 5: 50, 6: 60}\n"
     ]
    }
   ],
   "source": [
    "#Write a program to concatenate the given dictionaries\n",
    "\n",
    "dictt1 = {1:10, 2:20}\n",
    "dictt2 = {3:30, 4:40}\n",
    "dictt3 = {5:50, 6:60}\n",
    "dictt4 = {}\n",
    "for d in (dictt1, dictt2, dictt3): dictt4.update(d)\n",
    "print(dictt4)\n"
   ]
  },
  {
   "cell_type": "code",
   "execution_count": 13,
   "id": "0995967f",
   "metadata": {},
   "outputs": [
    {
     "name": "stdout",
     "output_type": "stream",
     "text": [
      "{'E': 4, 'K': 2, 'D': 5, 'A': 6}\n"
     ]
    }
   ],
   "source": [
    "#Use dictionary comprehension to make dictionary from following keys and values given \n",
    "\n",
    "keys = ['E', 'K', 'E', 'E', 'D', 'A']\n",
    "values = [1,2,3,4,5,6] \n",
    "myDict = { k:v for (k,v) in zip(keys, values)} \n",
    "print (myDict)\n"
   ]
  },
  {
   "cell_type": "code",
   "execution_count": 14,
   "id": "8c225416",
   "metadata": {},
   "outputs": [
    {
     "name": "stdout",
     "output_type": "stream",
     "text": [
      "{0: 'a', 1: 'a'}\n",
      "{0: 'a', 1: 'a', 2: 30}\n"
     ]
    }
   ],
   "source": [
    "#Write a python program to add a key to a dictionary\n",
    "\n",
    "Dicti = {0:'a', 1:'a'}\n",
    "print(Dicti)\n",
    "Dicti.update({2:30})\n",
    "print(Dicti)\n"
   ]
  },
  {
   "cell_type": "code",
   "execution_count": 20,
   "id": "25c4b983",
   "metadata": {},
   "outputs": [
    {
     "name": "stdout",
     "output_type": "stream",
     "text": [
      "key        value     \n",
      "1          a         \n",
      "2          b         \n",
      "3          c         \n",
      "4          d         \n",
      "5          e         \n",
      "6          f         \n"
     ]
    }
   ],
   "source": [
    "#Print the dictionary with key values in table manner\n",
    "\n",
    "dict_num ={}\n",
    "dict_num = {1:'a', 2:'b', 3:'c', 4:'d', 5:'e', 6:'f'}\n",
    "print(\"{:<10} {:<10}\".format('key', 'value'))\n",
    "for key, value in dict_num.items():\n",
    "    print(\"{:<10} {:<10}\".format(key, value))\n"
   ]
  },
  {
   "cell_type": "code",
   "execution_count": 2,
   "id": "8f904aaf",
   "metadata": {},
   "outputs": [
    {
     "name": "stdout",
     "output_type": "stream",
     "text": [
      "['Math']\n"
     ]
    }
   ],
   "source": [
    "#check the key for the minimum value in a dictionary\n",
    "\n",
    "dictt = {'Physics' : 82, 'Math' : 65, 'history' : 75}\n",
    "temp = min(dictt.values())\n",
    "res = [key for key in dictt if dictt [key] == temp]\n",
    "print(res)\n"
   ]
  },
  {
   "cell_type": "code",
   "execution_count": 1,
   "id": "6f3dada4",
   "metadata": {},
   "outputs": [
    {
     "name": "stdout",
     "output_type": "stream",
     "text": [
      "Please enter the number:13\n",
      "dictionary = {8: 64, 9: 81, 10: 100, 11: 121, 12: 144, 13: 169}\n"
     ]
    }
   ],
   "source": [
    "#Write a program to make dictionary ranging between keys 7-14 (both excluded) and the values are square of the keys\n",
    "\n",
    "number = int(input(\"Please enter the number:\"))\n",
    "mydict = {}\n",
    "\n",
    "for i in range (8, number+1):\n",
    "    mydict[i] = i**2\n",
    "print(\"dictionary =\", mydict)"
   ]
  },
  {
   "cell_type": "code",
   "execution_count": null,
   "id": "c28082c9",
   "metadata": {},
   "outputs": [],
   "source": []
  }
 ],
 "metadata": {
  "kernelspec": {
   "display_name": "Python 3 (ipykernel)",
   "language": "python",
   "name": "python3"
  },
  "language_info": {
   "codemirror_mode": {
    "name": "ipython",
    "version": 3
   },
   "file_extension": ".py",
   "mimetype": "text/x-python",
   "name": "python",
   "nbconvert_exporter": "python",
   "pygments_lexer": "ipython3",
   "version": "3.9.13"
  }
 },
 "nbformat": 4,
 "nbformat_minor": 5
}
